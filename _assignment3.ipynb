{
 "cells": [
  {
   "cell_type": "code",
   "execution_count": 1,
   "id": "20635673-869c-456b-8527-2be4faee51ef",
   "metadata": {},
   "outputs": [],
   "source": [
    "# Solution "
   ]
  },
  {
   "cell_type": "code",
   "execution_count": 2,
   "id": "dec4cd2f-40f9-488b-8800-8b00b9b78065",
   "metadata": {},
   "outputs": [
    {
     "name": "stdout",
     "output_type": "stream",
     "text": [
      "Sort list by its integer value:\n",
      " [('Sachin Tendulkar', 34357), ('Ricky Ponting', 27483), ('Jack Kallis', 25534), ('Virat Kohli', 24936)]\n"
     ]
    }
   ],
   "source": [
    "# Q1.\n",
    "list1=[('Sachin Tendulkar',34357),('Ricky Ponting',27483),('Jack Kallis',25534),('Virat Kohli',24936)]\n",
    "newlist=sorted(list1,key= lambda x :  x[1],reverse=True)\n",
    "print(\"Sort list by its integer value:\\n\",newlist)"
   ]
  },
  {
   "cell_type": "code",
   "execution_count": 3,
   "id": "77b6c12b-892b-4bec-8f77-2014d0fbddcb",
   "metadata": {},
   "outputs": [
    {
     "name": "stdout",
     "output_type": "stream",
     "text": [
      "[1, 4, 9, 16, 25, 36, 49, 64, 81, 100]\n"
     ]
    }
   ],
   "source": [
    "# Q2.\n",
    "list1=[1,2,3,4,5,6,7,8,9,10]\n",
    "squared_list=list(map(lambda x:x**2,list1))\n",
    "print(squared_list)"
   ]
  },
  {
   "cell_type": "code",
   "execution_count": 6,
   "id": "57b4e26a-482c-4ce4-87df-7c839481ad38",
   "metadata": {},
   "outputs": [
    {
     "name": "stdout",
     "output_type": "stream",
     "text": [
      "coverted string tuple is:\n",
      " ('1', '2', '3', '4', '5', '6', '7', '8', '9', '10')\n"
     ]
    }
   ],
   "source": [
    "# Q3.\n",
    "list1=[1,2,3,4,5,6,7,8,9,10]\n",
    "coverted_string_tuple = tuple(map( lambda x : str(x),list1))\n",
    "print(\"coverted string tuple is:\\n\",coverted_string_tuple)"
   ]
  },
  {
   "cell_type": "code",
   "execution_count": 10,
   "id": "deac91ea-c3e6-452a-8c66-418639b1a192",
   "metadata": {},
   "outputs": [
    {
     "name": "stdout",
     "output_type": "stream",
     "text": [
      "Product of a list containing numbers from 1 to 25:\n",
      " 15511210043330985984000000\n"
     ]
    }
   ],
   "source": [
    "# Q4.\n",
    "from functools import reduce\n",
    "list1=[]\n",
    "for i in range(1,26):\n",
    "    list1.append(i)\n",
    "product = reduce(lambda x , y:x*y,list1)\n",
    "print(\"Product of a list containing numbers from 1 to 25:\\n\",product)"
   ]
  },
  {
   "cell_type": "code",
   "execution_count": 12,
   "id": "4549e211-ea47-4fef-a023-7da5e3354000",
   "metadata": {},
   "outputs": [
    {
     "name": "stdout",
     "output_type": "stream",
     "text": [
      "Filtered list which are divisible of 2 and 3 both are : \n",
      " [6, 60, 90, 120]\n"
     ]
    }
   ],
   "source": [
    "# Q5.\n",
    "list1 = [2,3,6,9,27,60,90,120,55,46]\n",
    "filtered_list = list(filter(lambda x : x % 2 == 0 and x % 3 == 0,list1))\n",
    "print(\"Filtered list which are divisible of 2 and 3 both are : \\n\",filtered_list)"
   ]
  },
  {
   "cell_type": "code",
   "execution_count": null,
   "id": "13b517ea-3c44-4cbc-ad49-9501a8e6aea7",
   "metadata": {},
   "outputs": [],
   "source": [
    "# Q6.\n",
    "list1 = ['python', 'php', 'aba', 'radar', 'level']\n",
    "filtered_list1 = list(filter(lambda i : i[::-1]==i,list1))\n",
    "print(\"Palindromes in the given list of strings:\\n\",filtered_list1"
   ]
  }
 ],
 "metadata": {
  "kernelspec": {
   "display_name": "Python 3 (ipykernel)",
   "language": "python",
   "name": "python3"
  },
  "language_info": {
   "codemirror_mode": {
    "name": "ipython",
    "version": 3
   },
   "file_extension": ".py",
   "mimetype": "text/x-python",
   "name": "python",
   "nbconvert_exporter": "python",
   "pygments_lexer": "ipython3",
   "version": "3.10.8"
  }
 },
 "nbformat": 4,
 "nbformat_minor": 5
}
